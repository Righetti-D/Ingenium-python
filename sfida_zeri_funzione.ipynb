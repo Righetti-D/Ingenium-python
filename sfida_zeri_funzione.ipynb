{
 "cells": [
  {
   "cell_type": "markdown",
   "metadata": {},
   "source": [
    "# SFIDA: \n",
    "## Determinare numericamente gli zeri di una funzione\n",
    "\n",
    "Volgiamo determinare numericamente gli zeri di una funzione. Per questo motivo non è permesso l'utilizzo di una caloclatrice grafica (Desmos, ...).\n",
    "\n",
    "I risultati devono essere dedotti solo dai valori numerici della funzione.\n",
    "\n",
    "In un secondo momento ci soffermeremo sulla rappresentazione grafica per poter generalizzare i metodi scoperti e definire degli algoritmi generici."
   ]
  },
  {
   "cell_type": "markdown",
   "metadata": {},
   "source": [
    "Proviamo ad esempio a determinare gli zeri della funzionne di legge \n",
    "$$f(x)=\\sin(x^2+2x) -2x^2+2$$"
   ]
  },
  {
   "cell_type": "markdown",
   "metadata": {},
   "source": [
    "In questi casi ci serve la libreria `numpy`\n",
    "\n",
    "__[Documentazione NumPy](https://numpy.org/doc/stable/reference/index.html)__"
   ]
  },
  {
   "cell_type": "code",
   "execution_count": 8,
   "metadata": {},
   "outputs": [],
   "source": [
    "import numpy as np"
   ]
  },
  {
   "cell_type": "markdown",
   "metadata": {},
   "source": [
    "Abbimao importato la libreria e assegnato il nome `np`\n",
    "\n",
    "Per utilizzare delle funzioni (o delle costanti) di `numpy` possiamo utilizzare `np.<funzione>` (`np.<costante>`)\n",
    "\n",
    "Ad esempio per ottenere il valore di $\\pi$ utilizzeremo `np.pi`"
   ]
  },
  {
   "cell_type": "code",
   "execution_count": 9,
   "metadata": {},
   "outputs": [
    {
     "data": {
      "text/plain": [
       "2.718281828459045"
      ]
     },
     "execution_count": 9,
     "metadata": {},
     "output_type": "execute_result"
    }
   ],
   "source": [
    "np.e"
   ]
  },
  {
   "cell_type": "markdown",
   "metadata": {},
   "source": [
    "Definiamo la funzione in Python\n",
    "\n",
    "Per definire una funzione \n",
    "```\n",
    "def <nome_funzione>(<arg1>,<arg2>,<arg3=valore_default>):\n",
    "    <corpo della funzione>\n",
    "    return <valore di output>\n",
    "\n",
    "```"
   ]
  },
  {
   "cell_type": "code",
   "execution_count": 10,
   "metadata": {},
   "outputs": [],
   "source": [
    "def f(x):\n",
    "    return np.sin(x**2+2*x)-2*x**2+2"
   ]
  },
  {
   "cell_type": "markdown",
   "metadata": {},
   "source": [
    "Per utilizzare la funzione \n",
    "```\n",
    "<nome_funzione>(<argomento>)\n",
    "```\n",
    "\n",
    "Ad esempio per calcolare $f(1)$"
   ]
  },
  {
   "cell_type": "code",
   "execution_count": 11,
   "metadata": {},
   "outputs": [
    {
     "data": {
      "text/plain": [
       "-0.019645528992575656"
      ]
     },
     "execution_count": 11,
     "metadata": {},
     "output_type": "execute_result"
    }
   ],
   "source": [
    "f(1.02)"
   ]
  },
  {
   "cell_type": "code",
   "execution_count": 12,
   "metadata": {},
   "outputs": [
    {
     "data": {
      "text/plain": [
       "-1.0"
      ]
     },
     "execution_count": 12,
     "metadata": {},
     "output_type": "execute_result"
    }
   ],
   "source": [
    "bordo_sinistro=1\n",
    "bordo_destro=2\n",
    "np.sign(f(bordo_sinistro)*f(bordo_destro))"
   ]
  },
  {
   "cell_type": "code",
   "execution_count": 13,
   "metadata": {},
   "outputs": [],
   "source": [
    "input=np.arange(start=-10, stop=10, step=0.5)"
   ]
  },
  {
   "cell_type": "code",
   "execution_count": 14,
   "metadata": {},
   "outputs": [
    {
     "data": {
      "text/plain": [
       "array([-1.98993889e+02, -1.77654965e+02, -1.59832644e+02, -1.43463201e+02,\n",
       "       -1.26768255e+02, -1.10897963e+02, -9.64281827e+01, -8.33280755e+01,\n",
       "       -7.09055784e+01, -5.81101727e+01, -4.73497122e+01, -3.94678080e+01,\n",
       "       -2.90106418e+01, -2.33589345e+01, -1.58588800e+01, -9.55101538e+00,\n",
       "       -6.00000000e+00, -3.18163876e+00, -8.41470985e-01,  8.18361240e-01,\n",
       "        2.00000000e+00,  2.44898462e+00,  1.41120008e-01, -3.35893449e+00,\n",
       "       -5.01064175e+00, -1.14678080e+01, -1.53497122e+01, -2.21101727e+01,\n",
       "       -3.09055784e+01, -3.93280755e+01, -4.84281827e+01, -5.88979631e+01,\n",
       "       -7.07682547e+01, -8.34632010e+01, -9.58326443e+01, -1.09654965e+02,\n",
       "       -1.26993889e+02, -1.41540448e+02, -1.60999207e+02, -1.77851401e+02])"
      ]
     },
     "execution_count": 14,
     "metadata": {},
     "output_type": "execute_result"
    }
   ],
   "source": [
    "f(input)"
   ]
  },
  {
   "cell_type": "code",
   "execution_count": 15,
   "metadata": {},
   "outputs": [],
   "source": [
    "\n"
   ]
  }
 ],
 "metadata": {
  "kernelspec": {
   "display_name": "Python 3",
   "language": "python",
   "name": "python3"
  },
  "language_info": {
   "codemirror_mode": {
    "name": "ipython",
    "version": 3
   },
   "file_extension": ".py",
   "mimetype": "text/x-python",
   "name": "python",
   "nbconvert_exporter": "python",
   "pygments_lexer": "ipython3",
   "version": "3.10.8"
  }
 },
 "nbformat": 4,
 "nbformat_minor": 2
}
